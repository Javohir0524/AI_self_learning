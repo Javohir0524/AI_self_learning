{
  "nbformat": 4,
  "nbformat_minor": 0,
  "metadata": {
    "colab": {
      "private_outputs": true,
      "provenance": []
    },
    "kernelspec": {
      "name": "python3",
      "display_name": "Python 3"
    },
    "language_info": {
      "name": "python"
    }
  },
  "cells": [
    {
      "cell_type": "code",
      "execution_count": null,
      "metadata": {
        "id": "z9gs5J2jNxPc"
      },
      "outputs": [],
      "source": [
        "pip install tensorflow"
      ]
    },
    {
      "cell_type": "code",
      "source": [
        "pip install tensorflow-gpu"
      ],
      "metadata": {
        "id": "uPE1v1wtPsVG"
      },
      "execution_count": null,
      "outputs": []
    },
    {
      "cell_type": "code",
      "source": [
        "import numpy"
      ],
      "metadata": {
        "id": "2ceW_DE3P-D1"
      },
      "execution_count": null,
      "outputs": []
    },
    {
      "cell_type": "code",
      "source": [
        "def func(h):\n",
        "  print(h)"
      ],
      "metadata": {
        "id": "BuxWRsbVQA33"
      },
      "execution_count": null,
      "outputs": []
    },
    {
      "cell_type": "code",
      "source": [
        "import tensorflow as tf # now import the tensorflow module\n",
        "print(tf.version) # make sure the version is 2.x"
      ],
      "metadata": {
        "id": "eze7yZ_nQh4V"
      },
      "execution_count": null,
      "outputs": []
    },
    {
      "cell_type": "code",
      "source": [
        "# An example of how to create some different tensors.\n",
        "\n",
        "string = tf.Variable(\"this is a string\", tf.string)\n",
        "number = tf.Variable(324, tf.int16)\n",
        "floating = tf.Variable(3.567, tf.float64)"
      ],
      "metadata": {
        "id": "P-8RnqqEQ6VO"
      },
      "execution_count": null,
      "outputs": []
    },
    {
      "cell_type": "code",
      "source": [
        "# Now we will create some tensors of high degrees/ranks.\n",
        "\n",
        "rank1_tensor = tf.Variable([\"Test\"], tf.string)\n",
        "rank2_tensor = tf.Variable([[\"test\", \"ok\"], [\"test\", \"yes\"]], tf.string)"
      ],
      "metadata": {
        "id": "Ztv5Kt-xTouh"
      },
      "execution_count": null,
      "outputs": []
    },
    {
      "cell_type": "code",
      "source": [
        "# To determine the rank of a tensor we can call the following method.\n",
        "\n",
        "tf.rank(rank2_tensor)"
      ],
      "metadata": {
        "id": "XPkE9s1RUWcv"
      },
      "execution_count": null,
      "outputs": []
    },
    {
      "cell_type": "markdown",
      "source": [
        "# Shapes of Tensors"
      ],
      "metadata": {
        "id": "fdA_ITpNVXBy"
      }
    },
    {
      "cell_type": "code",
      "source": [
        "# To get the shape of a tensor we use the shape attribute.\n",
        "\n",
        "rank2_tensor.shape"
      ],
      "metadata": {
        "id": "qnqvNQ3OUpVx"
      },
      "execution_count": null,
      "outputs": []
    },
    {
      "cell_type": "code",
      "source": [],
      "metadata": {
        "id": "3zZzwoLmVztw"
      },
      "execution_count": null,
      "outputs": []
    }
  ]
}