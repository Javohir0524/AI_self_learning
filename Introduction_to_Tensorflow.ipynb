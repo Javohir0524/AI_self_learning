{
  "nbformat": 4,
  "nbformat_minor": 0,
  "metadata": {
    "colab": {
      "private_outputs": true,
      "provenance": []
    },
    "kernelspec": {
      "name": "python3",
      "display_name": "Python 3"
    },
    "language_info": {
      "name": "python"
    }
  },
  "cells": [
    {
      "cell_type": "code",
      "execution_count": null,
      "metadata": {
        "id": "z9gs5J2jNxPc"
      },
      "outputs": [],
      "source": [
        "pip install tensorflow"
      ]
    },
    {
      "cell_type": "code",
      "source": [
        "pip install tensorflow-gpu"
      ],
      "metadata": {
        "id": "uPE1v1wtPsVG"
      },
      "execution_count": null,
      "outputs": []
    },
    {
      "cell_type": "code",
      "source": [
        "def func(h):\n",
        "  print(h)"
      ],
      "metadata": {
        "id": "BuxWRsbVQA33"
      },
      "execution_count": null,
      "outputs": []
    },
    {
      "cell_type": "markdown",
      "source": [
        "# Importing Tensors"
      ],
      "metadata": {
        "id": "7pGRXDj74ch7"
      }
    },
    {
      "cell_type": "code",
      "source": [
        "import numpy"
      ],
      "metadata": {
        "id": "2ceW_DE3P-D1"
      },
      "execution_count": null,
      "outputs": []
    },
    {
      "cell_type": "code",
      "source": [
        "import tensorflow as tf # now import the tensorflow module\n",
        "print(tf.version) # make sure the version is 2.x"
      ],
      "metadata": {
        "id": "eze7yZ_nQh4V"
      },
      "execution_count": null,
      "outputs": []
    },
    {
      "cell_type": "markdown",
      "source": [
        "# Creating Tensors"
      ],
      "metadata": {
        "id": "UJfqZlo74Tet"
      }
    },
    {
      "cell_type": "code",
      "source": [
        "# An example of how to create some different tensors.\n",
        "\n",
        "string = tf.Variable(\"this is a string\", tf.string)\n",
        "number = tf.Variable(324, tf.int16)\n",
        "floating = tf.Variable(3.567, tf.float64)"
      ],
      "metadata": {
        "id": "P-8RnqqEQ6VO"
      },
      "execution_count": null,
      "outputs": []
    },
    {
      "cell_type": "markdown",
      "source": [
        "# Rank/Degrees of Tensors"
      ],
      "metadata": {
        "id": "6SGVWoo66lL3"
      }
    },
    {
      "cell_type": "code",
      "source": [
        "# Now we will create some tensors of high degrees/ranks.\n",
        "\n",
        "rank1_tensor = tf.Variable([\"Test\"], tf.string)\n",
        "rank2_tensor = tf.Variable([[\"test\", \"ok\"], [\"test\", \"yes\"]], tf.string)"
      ],
      "metadata": {
        "id": "Ztv5Kt-xTouh"
      },
      "execution_count": null,
      "outputs": []
    },
    {
      "cell_type": "code",
      "source": [
        "# To determine the rank of a tensor we can call the following method.\n",
        "\n",
        "tf.rank(rank2_tensor)"
      ],
      "metadata": {
        "id": "XPkE9s1RUWcv"
      },
      "execution_count": null,
      "outputs": []
    },
    {
      "cell_type": "markdown",
      "source": [
        "# Shapes of Tensors"
      ],
      "metadata": {
        "id": "fdA_ITpNVXBy"
      }
    },
    {
      "cell_type": "code",
      "source": [
        "# To get the shape of a tensor we use the shape attribute.\n",
        "\n",
        "rank2_tensor.shape"
      ],
      "metadata": {
        "id": "qnqvNQ3OUpVx"
      },
      "execution_count": null,
      "outputs": []
    },
    {
      "cell_type": "markdown",
      "source": [
        "# Changing Shape"
      ],
      "metadata": {
        "id": "Hr5B7Byh9HlP"
      }
    },
    {
      "cell_type": "code",
      "source": [
        "tensor1 = tf.ones([1,2,3]) # tf.ones() creates a shape [1,2,3] tensor full of ones\n",
        "tensor2 = tf.reshape(tensor1, [2,3,1]) # reshape existing data to shape [2,3,1]\n",
        "tensor3 = tf.reshape(tensor2, [3, -1]) # -1 tells the tensor to calculate the size of the dimension in that place\n",
        "                                       # this will reshape the tensor to [3,3]\n",
        "\n",
        "# The number of elements in the reshaped tensor MUST match the number in the original"
      ],
      "metadata": {
        "id": "O4Q2hKDO9PXb"
      },
      "execution_count": null,
      "outputs": []
    },
    {
      "cell_type": "code",
      "source": [
        "print(tensor1)\n",
        "print(tensor2)\n",
        "print(tensor3)"
      ],
      "metadata": {
        "id": "Y3uEmoFo_Uia"
      },
      "execution_count": null,
      "outputs": []
    },
    {
      "cell_type": "code",
      "source": [
        "%tensorflow_version 2.x\n",
        "import tensorflow as tf\n",
        "print(tf.version)\n",
        "\n",
        "t = tf.zeros([5,5,5,5])\n",
        "\n",
        "t = tf.reshape(t, [125, -1])\n",
        "print(t)"
      ],
      "metadata": {
        "id": "J9BaUUU0kO94"
      },
      "execution_count": null,
      "outputs": []
    },
    {
      "cell_type": "markdown",
      "source": [
        "# Tensorflow Core Learning Algorithms"
      ],
      "metadata": {
        "id": "TglkHFA5k8OG"
      }
    }
  ]
}